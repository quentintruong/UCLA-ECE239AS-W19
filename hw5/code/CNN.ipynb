{
 "cells": [
  {
   "cell_type": "markdown",
   "metadata": {},
   "source": [
    "# Convolutional neural networks\n",
    "\n",
    "In this notebook, we'll put together our convolutional layers to implement a 3-layer CNN.  Then, we'll ask you to implement a CNN that can achieve > 65% validation error on CIFAR-10.\n",
    "\n",
    "CS231n has built a solid API for building these modular frameworks and training them, and we will use their very well implemented framework as opposed to \"reinventing the wheel.\"  This includes using their Solver, various utility functions, their layer structure, and their implementation of fast CNN layers.  This also includes nndl.fc_net, nndl.layers, and nndl.layer_utils.  As in prior assignments, we thank Serena Yeung & Justin Johnson for permission to use code written for the CS 231n class (cs231n.stanford.edu).  \n",
    "\n",
    "If you have not completed the Spatial BatchNorm Notebook, please see the following description from that notebook:\n",
    "\n",
    "Please copy and paste your prior implemented code from HW #4 to start this assignment.  If you did not correctly implement the layers in HW #4, you may collaborate with a classmate to use their layer implementations from HW #4.  You may also visit TA or Prof OH to correct your implementation.  \n",
    "\n",
    "You'll want to copy and paste from HW #4:\n",
    "    - layers.py for your FC network layers, as well as batchnorm and dropout.\n",
    "    - layer_utils.py for your combined FC network layers.\n",
    "    - optim.py for your optimizers.\n",
    "\n",
    "Be sure to place these in the `nndl/` directory so they're imported correctly.  Note, as announced in class, we will not be releasing our solutions."
   ]
  },
  {
   "cell_type": "code",
   "execution_count": 1,
   "metadata": {},
   "outputs": [],
   "source": [
    "# As usual, a bit of setup\n",
    "\n",
    "import numpy as np\n",
    "import matplotlib.pyplot as plt\n",
    "from nndl.cnn import *\n",
    "from cs231n.data_utils import get_CIFAR10_data\n",
    "from cs231n.gradient_check import eval_numerical_gradient_array, eval_numerical_gradient\n",
    "from nndl.layers import *\n",
    "from nndl.conv_layers import *\n",
    "from cs231n.fast_layers import *\n",
    "from cs231n.solver import Solver\n",
    "\n",
    "%matplotlib inline\n",
    "plt.rcParams['figure.figsize'] = (10.0, 8.0) # set default size of plots\n",
    "plt.rcParams['image.interpolation'] = 'nearest'\n",
    "plt.rcParams['image.cmap'] = 'gray'\n",
    "\n",
    "# for auto-reloading external modules\n",
    "# see http://stackoverflow.com/questions/1907993/autoreload-of-modules-in-ipython\n",
    "%load_ext autoreload\n",
    "%autoreload 2\n",
    "\n",
    "def rel_error(x, y):\n",
    "  \"\"\" returns relative error \"\"\"\n",
    "  return np.max(np.abs(x - y) / (np.maximum(1e-8, np.abs(x) + np.abs(y))))"
   ]
  },
  {
   "cell_type": "code",
   "execution_count": 2,
   "metadata": {},
   "outputs": [
    {
     "name": "stdout",
     "output_type": "stream",
     "text": [
      "X_train: (49000, 3, 32, 32) \n",
      "y_train: (49000,) \n",
      "X_val: (1000, 3, 32, 32) \n",
      "y_val: (1000,) \n",
      "X_test: (1000, 3, 32, 32) \n",
      "y_test: (1000,) \n"
     ]
    }
   ],
   "source": [
    "# Load the (preprocessed) CIFAR10 data.\n",
    "\n",
    "data = get_CIFAR10_data()\n",
    "for k in data.keys():\n",
    "  print('{}: {} '.format(k, data[k].shape))"
   ]
  },
  {
   "cell_type": "markdown",
   "metadata": {},
   "source": [
    "## Three layer CNN\n",
    "\n",
    "In this notebook, you will implement a three layer CNN.  The `ThreeLayerConvNet` class is in `nndl/cnn.py`.  You'll need to modify that code for this section, including the initialization, as well as the calculation of the loss and gradients.  You should be able to use the building blocks you have either earlier coded or that we have provided.  Be sure to use the fast layers.\n",
    "\n",
    "The architecture of this CNN will be:\n",
    "\n",
    "conv - relu - 2x2 max pool - affine - relu - affine - softmax\n",
    "\n",
    "We won't use batchnorm yet.  You've also done enough of these to know how to debug; use the cells below.\n",
    "\n",
    "Note: As we are implementing several layers CNN networks. The gradient error can be expected for the `eval_numerical_gradient()` function. If your `W1 max relative error` and `W2 max relative error` are around or below 0.01, they should be acceptable. Other errors should be less than 1e-5. "
   ]
  },
  {
   "cell_type": "code",
   "execution_count": null,
   "metadata": {},
   "outputs": [],
   "source": [
    "num_inputs = 2\n",
    "input_dim = (3, 16, 16)\n",
    "reg = 0.0\n",
    "num_classes = 10\n",
    "X = np.random.randn(num_inputs, *input_dim)\n",
    "y = np.random.randint(num_classes, size=num_inputs)\n",
    "\n",
    "model = ThreeLayerConvNet(num_filters=3, filter_size=3,\n",
    "                          input_dim=input_dim, hidden_dim=7,\n",
    "                          dtype=np.float64)\n",
    "loss, grads = model.loss(X, y)\n",
    "for param_name in sorted(grads):\n",
    "    f = lambda _: model.loss(X, y)[0]\n",
    "    param_grad_num = eval_numerical_gradient(f, model.params[param_name], verbose=False, h=1e-6)\n",
    "    e = rel_error(param_grad_num, grads[param_name])\n",
    "    print('{} max relative error: {}'.format(param_name, rel_error(param_grad_num, grads[param_name])))"
   ]
  },
  {
   "cell_type": "markdown",
   "metadata": {},
   "source": [
    "### Overfit small dataset\n",
    "\n",
    "To check your CNN implementation, let's overfit a small dataset."
   ]
  },
  {
   "cell_type": "code",
   "execution_count": null,
   "metadata": {
    "scrolled": true
   },
   "outputs": [],
   "source": [
    "num_train = 100\n",
    "small_data = {\n",
    "  'X_train': data['X_train'][:num_train],\n",
    "  'y_train': data['y_train'][:num_train],\n",
    "  'X_val': data['X_val'],\n",
    "  'y_val': data['y_val'],\n",
    "}\n",
    "\n",
    "model = ThreeLayerConvNet(weight_scale=1e-2)\n",
    "\n",
    "solver = Solver(model, small_data,\n",
    "                num_epochs=10, batch_size=50,\n",
    "                update_rule='adam',\n",
    "                optim_config={\n",
    "                  'learning_rate': 1e-3,\n",
    "                },\n",
    "                verbose=True, print_every=1)\n",
    "solver.train()"
   ]
  },
  {
   "cell_type": "code",
   "execution_count": null,
   "metadata": {},
   "outputs": [],
   "source": [
    "plt.subplot(2, 1, 1)\n",
    "plt.plot(solver.loss_history, 'o')\n",
    "plt.xlabel('iteration')\n",
    "plt.ylabel('loss')\n",
    "\n",
    "plt.subplot(2, 1, 2)\n",
    "plt.plot(solver.train_acc_history, '-o')\n",
    "plt.plot(solver.val_acc_history, '-o')\n",
    "plt.legend(['train', 'val'], loc='upper left')\n",
    "plt.xlabel('epoch')\n",
    "plt.ylabel('accuracy')\n",
    "plt.show()"
   ]
  },
  {
   "cell_type": "markdown",
   "metadata": {},
   "source": [
    "## Train the network\n",
    "\n",
    "Now we train the 3 layer CNN on CIFAR-10 and assess its accuracy."
   ]
  },
  {
   "cell_type": "code",
   "execution_count": null,
   "metadata": {
    "scrolled": true
   },
   "outputs": [],
   "source": [
    "model = ThreeLayerConvNet(weight_scale=0.001, hidden_dim=500, reg=0.001)\n",
    "\n",
    "solver = Solver(model, data,\n",
    "                num_epochs=1, batch_size=50,\n",
    "                update_rule='adam',\n",
    "                optim_config={\n",
    "                  'learning_rate': 1e-3,\n",
    "                },\n",
    "                verbose=True, print_every=20)\n",
    "solver.train()"
   ]
  },
  {
   "cell_type": "markdown",
   "metadata": {},
   "source": [
    "# Get > 65% validation accuracy on CIFAR-10.\n",
    "\n",
    "In the last part of the assignment, we'll now ask you to train a CNN to get better than 65% validation accuracy on CIFAR-10.\n",
    "\n",
    "### Things you should try:\n",
    "- Filter size: Above we used 7x7; but VGGNet and onwards showed stacks of 3x3 filters are good.  \n",
    "- Number of filters: Above we used 32 filters. Do more or fewer do better?\n",
    "- Batch normalization: Try adding spatial batch normalization after convolution layers and vanilla batch normalization aafter affine layers. Do your networks train faster?\n",
    "- Network architecture: Can a deeper CNN do better?  Consider these architectures:\n",
    "    - [conv-relu-pool]xN - conv - relu - [affine]xM - [softmax or SVM]\n",
    "    - [conv-relu-pool]XN - [affine]XM - [softmax or SVM]\n",
    "    - [conv-relu-conv-relu-pool]xN - [affine]xM - [softmax or SVM]\n",
    "\n",
    "### Tips for training\n",
    "For each network architecture that you try, you should tune the learning rate and regularization strength. When doing this there are a couple important things to keep in mind:\n",
    "\n",
    "- If the parameters are working well, you should see improvement within a few hundred iterations\n",
    "- Remember the coarse-to-fine approach for hyperparameter tuning: start by testing a large range of hyperparameters for just a few training iterations to find the combinations of parameters that are working at all.\n",
    "- Once you have found some sets of parameters that seem to work, search more finely around these parameters. You may need to train for more epochs."
   ]
  },
  {
   "cell_type": "code",
   "execution_count": 10,
   "metadata": {
    "scrolled": false
   },
   "outputs": [
    {
     "name": "stdout",
     "output_type": "stream",
     "text": [
      "(Iteration 1 / 7640) loss: 2.336331\n",
      "(Epoch 0 / 20) train acc: 0.098000; val_acc: 0.088000\n",
      "(Iteration 101 / 7640) loss: 1.670949\n",
      "(Iteration 201 / 7640) loss: 1.511465\n",
      "(Iteration 301 / 7640) loss: 1.482682\n",
      "(Epoch 1 / 20) train acc: 0.538000; val_acc: 0.529000\n",
      "(Iteration 401 / 7640) loss: 1.593825\n",
      "(Iteration 501 / 7640) loss: 1.343916\n",
      "(Iteration 601 / 7640) loss: 1.368077\n",
      "(Iteration 701 / 7640) loss: 1.415682\n",
      "(Epoch 2 / 20) train acc: 0.645000; val_acc: 0.616000\n",
      "(Iteration 801 / 7640) loss: 1.417564\n",
      "(Iteration 901 / 7640) loss: 1.178932\n",
      "(Iteration 1001 / 7640) loss: 1.110138\n",
      "(Iteration 1101 / 7640) loss: 1.101641\n",
      "(Epoch 3 / 20) train acc: 0.716000; val_acc: 0.622000\n",
      "(Iteration 1201 / 7640) loss: 1.276990\n",
      "(Iteration 1301 / 7640) loss: 1.147939\n",
      "(Iteration 1401 / 7640) loss: 1.121312\n",
      "(Iteration 1501 / 7640) loss: 1.105080\n",
      "(Epoch 4 / 20) train acc: 0.680000; val_acc: 0.641000\n",
      "(Iteration 1601 / 7640) loss: 1.257500\n",
      "(Iteration 1701 / 7640) loss: 1.118692\n",
      "(Iteration 1801 / 7640) loss: 1.162882\n",
      "(Iteration 1901 / 7640) loss: 1.152434\n",
      "(Epoch 5 / 20) train acc: 0.728000; val_acc: 0.647000\n",
      "(Iteration 2001 / 7640) loss: 0.933882\n",
      "(Iteration 2101 / 7640) loss: 1.007060\n",
      "(Iteration 2201 / 7640) loss: 1.018173\n",
      "(Epoch 6 / 20) train acc: 0.740000; val_acc: 0.626000\n",
      "(Iteration 2301 / 7640) loss: 1.053089\n",
      "(Iteration 2401 / 7640) loss: 0.852686\n",
      "(Iteration 2501 / 7640) loss: 0.836276\n",
      "(Iteration 2601 / 7640) loss: 0.973918\n",
      "(Epoch 7 / 20) train acc: 0.772000; val_acc: 0.655000\n",
      "(Iteration 2701 / 7640) loss: 0.833156\n",
      "(Iteration 2801 / 7640) loss: 0.960028\n",
      "(Iteration 2901 / 7640) loss: 0.869738\n",
      "(Iteration 3001 / 7640) loss: 0.894365\n",
      "(Epoch 8 / 20) train acc: 0.755000; val_acc: 0.638000\n",
      "(Iteration 3101 / 7640) loss: 1.066237\n",
      "(Iteration 3201 / 7640) loss: 0.925506\n",
      "(Iteration 3301 / 7640) loss: 0.901143\n",
      "(Iteration 3401 / 7640) loss: 0.895855\n",
      "(Epoch 9 / 20) train acc: 0.780000; val_acc: 0.620000\n",
      "(Iteration 3501 / 7640) loss: 1.014221\n",
      "(Iteration 3601 / 7640) loss: 0.876468\n",
      "(Iteration 3701 / 7640) loss: 0.873967\n",
      "(Iteration 3801 / 7640) loss: 0.898300\n",
      "(Epoch 10 / 20) train acc: 0.780000; val_acc: 0.630000\n",
      "(Iteration 3901 / 7640) loss: 0.906659\n",
      "(Iteration 4001 / 7640) loss: 0.734977\n",
      "(Iteration 4101 / 7640) loss: 0.798377\n",
      "(Iteration 4201 / 7640) loss: 0.797348\n",
      "(Epoch 11 / 20) train acc: 0.824000; val_acc: 0.670000\n",
      "(Iteration 4301 / 7640) loss: 0.720607\n",
      "(Iteration 4401 / 7640) loss: 0.774881\n",
      "(Iteration 4501 / 7640) loss: 0.938662\n",
      "(Epoch 12 / 20) train acc: 0.826000; val_acc: 0.661000\n",
      "(Iteration 4601 / 7640) loss: 0.838905\n",
      "(Iteration 4701 / 7640) loss: 0.690243\n",
      "(Iteration 4801 / 7640) loss: 0.606958\n",
      "(Iteration 4901 / 7640) loss: 0.607002\n",
      "(Epoch 13 / 20) train acc: 0.814000; val_acc: 0.643000\n",
      "(Iteration 5001 / 7640) loss: 0.661225\n",
      "(Iteration 5101 / 7640) loss: 0.810502\n",
      "(Iteration 5201 / 7640) loss: 0.741615\n",
      "(Iteration 5301 / 7640) loss: 0.676790\n",
      "(Epoch 14 / 20) train acc: 0.822000; val_acc: 0.661000\n",
      "(Iteration 5401 / 7640) loss: 0.763202\n",
      "(Iteration 5501 / 7640) loss: 0.799008\n",
      "(Iteration 5601 / 7640) loss: 0.720595\n",
      "(Iteration 5701 / 7640) loss: 0.797355\n",
      "(Epoch 15 / 20) train acc: 0.833000; val_acc: 0.655000\n",
      "(Iteration 5801 / 7640) loss: 0.644746\n",
      "(Iteration 5901 / 7640) loss: 0.649774\n",
      "(Iteration 6001 / 7640) loss: 0.674265\n",
      "(Iteration 6101 / 7640) loss: 0.644854\n",
      "(Epoch 16 / 20) train acc: 0.867000; val_acc: 0.679000\n",
      "(Iteration 6201 / 7640) loss: 0.759045\n",
      "(Iteration 6301 / 7640) loss: 0.766314\n",
      "(Iteration 6401 / 7640) loss: 0.625347\n",
      "(Epoch 17 / 20) train acc: 0.866000; val_acc: 0.649000\n",
      "(Iteration 6501 / 7640) loss: 0.650522\n",
      "(Iteration 6601 / 7640) loss: 0.564891\n",
      "(Iteration 6701 / 7640) loss: 0.890038\n",
      "(Iteration 6801 / 7640) loss: 0.613686\n",
      "(Epoch 18 / 20) train acc: 0.860000; val_acc: 0.650000\n",
      "(Iteration 6901 / 7640) loss: 0.586294\n",
      "(Iteration 7001 / 7640) loss: 0.735426\n",
      "(Iteration 7101 / 7640) loss: 0.626093\n",
      "(Iteration 7201 / 7640) loss: 0.606037\n",
      "(Epoch 19 / 20) train acc: 0.856000; val_acc: 0.650000\n",
      "(Iteration 7301 / 7640) loss: 0.767815\n",
      "(Iteration 7401 / 7640) loss: 0.694980\n",
      "(Iteration 7501 / 7640) loss: 0.537208\n",
      "(Iteration 7601 / 7640) loss: 0.575530\n",
      "(Epoch 20 / 20) train acc: 0.890000; val_acc: 0.667000\n"
     ]
    }
   ],
   "source": [
    "# ================================================================ #\n",
    "# YOUR CODE HERE:\n",
    "#   Implement a CNN to achieve greater than 65% validation accuracy\n",
    "#   on CIFAR-10.\n",
    "# ================================================================ #\n",
    "model = ThreeLayerConvNet(  filter_size=3,\n",
    "                            num_filters=128,\n",
    "                            weight_scale=0.001, \n",
    "                            hidden_dim=1024, \n",
    "                            reg=0.002)\n",
    "\n",
    "solver = Solver(model, data,\n",
    "                num_epochs=20, batch_size=128,\n",
    "                update_rule='adam',\n",
    "                optim_config={\n",
    "                  'learning_rate': 5e-4,\n",
    "                },\n",
    "                verbose=True, print_every=100)\n",
    "solver.train()\n",
    "\n",
    "# ================================================================ #\n",
    "# END YOUR CODE HERE\n",
    "# ================================================================ #\n"
   ]
  }
 ],
 "metadata": {
  "kernelspec": {
   "display_name": "Python 3",
   "language": "python",
   "name": "python3"
  },
  "language_info": {
   "codemirror_mode": {
    "name": "ipython",
    "version": 3
   },
   "file_extension": ".py",
   "mimetype": "text/x-python",
   "name": "python",
   "nbconvert_exporter": "python",
   "pygments_lexer": "ipython3",
   "version": "3.6.6"
  }
 },
 "nbformat": 4,
 "nbformat_minor": 2
}
