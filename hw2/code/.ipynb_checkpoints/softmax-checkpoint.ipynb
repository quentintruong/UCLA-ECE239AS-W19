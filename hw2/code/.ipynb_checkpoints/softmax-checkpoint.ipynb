{
 "cells": [
  {
   "cell_type": "markdown",
   "metadata": {},
   "source": [
    "## This is the softmax workbook for ECE 239AS Assignment #2\n",
    "\n",
    "Please follow the notebook linearly to implement a softmax classifier.\n",
    "\n",
    "Please print out the workbook entirely when completed.\n",
    "\n",
    "We thank Serena Yeung & Justin Johnson for permission to use code written for the CS 231n class (cs231n.stanford.edu).  These are the functions in the cs231n folders and code in the jupyer notebook to preprocess and show the images.  The classifiers used are based off of code prepared for CS 231n as well.\n",
    "\n",
    "The goal of this workbook is to give you experience with training a softmax classifier."
   ]
  },
  {
   "cell_type": "code",
   "execution_count": 1,
   "metadata": {},
   "outputs": [],
   "source": [
    "import random\n",
    "import numpy as np\n",
    "from cs231n.data_utils import load_CIFAR10\n",
    "import matplotlib.pyplot as plt\n",
    "\n",
    "%matplotlib inline\n",
    "%load_ext autoreload\n",
    "%autoreload 2"
   ]
  },
  {
   "cell_type": "code",
   "execution_count": 2,
   "metadata": {
    "scrolled": true
   },
   "outputs": [
    {
     "name": "stdout",
     "output_type": "stream",
     "text": [
      "Train data shape:  (49000, 3073)\n",
      "Train labels shape:  (49000,)\n",
      "Validation data shape:  (1000, 3073)\n",
      "Validation labels shape:  (1000,)\n",
      "Test data shape:  (1000, 3073)\n",
      "Test labels shape:  (1000,)\n",
      "dev data shape:  (500, 3073)\n",
      "dev labels shape:  (500,)\n"
     ]
    }
   ],
   "source": [
    "def get_CIFAR10_data(num_training=49000, num_validation=1000, num_test=1000, num_dev=500):\n",
    "    \"\"\"\n",
    "    Load the CIFAR-10 dataset from disk and perform preprocessing to prepare\n",
    "    it for the linear classifier. These are the same steps as we used for the\n",
    "    SVM, but condensed to a single function.  \n",
    "    \"\"\"\n",
    "    # Load the raw CIFAR-10 data\n",
    "    cifar10_dir = 'cifar-10-batches-py'\n",
    "    X_train, y_train, X_test, y_test = load_CIFAR10(cifar10_dir)\n",
    "    \n",
    "    # subsample the data\n",
    "    mask = list(range(num_training, num_training + num_validation))\n",
    "    X_val = X_train[mask]\n",
    "    y_val = y_train[mask]\n",
    "    mask = list(range(num_training))\n",
    "    X_train = X_train[mask]\n",
    "    y_train = y_train[mask]\n",
    "    mask = list(range(num_test))\n",
    "    X_test = X_test[mask]\n",
    "    y_test = y_test[mask]\n",
    "    mask = np.random.choice(num_training, num_dev, replace=False)\n",
    "    X_dev = X_train[mask]\n",
    "    y_dev = y_train[mask]\n",
    "    \n",
    "    # Preprocessing: reshape the image data into rows\n",
    "    X_train = np.reshape(X_train, (X_train.shape[0], -1))\n",
    "    X_val = np.reshape(X_val, (X_val.shape[0], -1))\n",
    "    X_test = np.reshape(X_test, (X_test.shape[0], -1))\n",
    "    X_dev = np.reshape(X_dev, (X_dev.shape[0], -1))\n",
    "    \n",
    "    # Normalize the data: subtract the mean image\n",
    "    mean_image = np.mean(X_train, axis = 0)\n",
    "    X_train -= mean_image\n",
    "    X_val -= mean_image\n",
    "    X_test -= mean_image\n",
    "    X_dev -= mean_image\n",
    "    \n",
    "    # add bias dimension and transform into columns\n",
    "    X_train = np.hstack([X_train, np.ones((X_train.shape[0], 1))])\n",
    "    X_val = np.hstack([X_val, np.ones((X_val.shape[0], 1))])\n",
    "    X_test = np.hstack([X_test, np.ones((X_test.shape[0], 1))])\n",
    "    X_dev = np.hstack([X_dev, np.ones((X_dev.shape[0], 1))])\n",
    "    \n",
    "    return X_train, y_train, X_val, y_val, X_test, y_test, X_dev, y_dev\n",
    "\n",
    "\n",
    "# Invoke the above function to get our data.\n",
    "X_train, y_train, X_val, y_val, X_test, y_test, X_dev, y_dev = get_CIFAR10_data()\n",
    "print('Train data shape: ', X_train.shape)\n",
    "print('Train labels shape: ', y_train.shape)\n",
    "print('Validation data shape: ', X_val.shape)\n",
    "print('Validation labels shape: ', y_val.shape)\n",
    "print('Test data shape: ', X_test.shape)\n",
    "print('Test labels shape: ', y_test.shape)\n",
    "print('dev data shape: ', X_dev.shape)\n",
    "print('dev labels shape: ', y_dev.shape)"
   ]
  },
  {
   "cell_type": "markdown",
   "metadata": {},
   "source": [
    "## Training a softmax classifier.\n",
    "\n",
    "The following cells will take you through building a softmax classifier.  You will implement its loss function, then subsequently train it with gradient descent.  Finally, you will choose the learning rate of gradient descent to optimize its classification performance."
   ]
  },
  {
   "cell_type": "code",
   "execution_count": 3,
   "metadata": {},
   "outputs": [],
   "source": [
    "from nndl import Softmax"
   ]
  },
  {
   "cell_type": "code",
   "execution_count": 4,
   "metadata": {},
   "outputs": [],
   "source": [
    "# Declare an instance of the Softmax class.  \n",
    "# Weights are initialized to a random value.\n",
    "# Note, to keep people's first solutions consistent, we are going to use a random seed.\n",
    "\n",
    "np.random.seed(1)\n",
    "\n",
    "num_classes = len(np.unique(y_train))\n",
    "num_features = X_train.shape[1]\n",
    "\n",
    "softmax = Softmax(dims=[num_classes, num_features])"
   ]
  },
  {
   "cell_type": "markdown",
   "metadata": {},
   "source": [
    "#### Softmax loss"
   ]
  },
  {
   "cell_type": "code",
   "execution_count": 5,
   "metadata": {},
   "outputs": [],
   "source": [
    "## Implement the loss function of the softmax using a for loop over\n",
    "#  the number of examples\n",
    "\n",
    "loss = softmax.loss(X_train, y_train)"
   ]
  },
  {
   "cell_type": "code",
   "execution_count": 6,
   "metadata": {},
   "outputs": [
    {
     "name": "stdout",
     "output_type": "stream",
     "text": [
      "2.3277607028048966\n"
     ]
    }
   ],
   "source": [
    "print(loss)"
   ]
  },
  {
   "cell_type": "markdown",
   "metadata": {},
   "source": [
    "## Question: \n",
    "\n",
    "You'll notice the loss returned by the softmax is about 2.3 (if implemented correctly).  Why does this value make sense?"
   ]
  },
  {
   "cell_type": "markdown",
   "metadata": {},
   "source": [
    "## Answer:\n",
    "\n",
    "Random chance is 0.1, and so we should expect the fraction to be ln(10/1), which it is."
   ]
  },
  {
   "cell_type": "markdown",
   "metadata": {},
   "source": [
    "#### Softmax gradient"
   ]
  },
  {
   "cell_type": "code",
   "execution_count": 23,
   "metadata": {
    "scrolled": true
   },
   "outputs": [
    {
     "name": "stdout",
     "output_type": "stream",
     "text": [
      "numerical: 1.890760 analytic: 1.890760, relative error: 1.015582e-08\n",
      "numerical: 0.780973 analytic: 0.780973, relative error: 1.043998e-08\n",
      "numerical: 2.684113 analytic: 2.684113, relative error: 5.173673e-09\n",
      "numerical: 0.827711 analytic: 0.827711, relative error: 6.075118e-08\n",
      "numerical: 1.871648 analytic: 1.871648, relative error: 5.056098e-08\n",
      "numerical: -1.772478 analytic: -1.772478, relative error: 3.879191e-08\n",
      "numerical: 1.184193 analytic: 1.184193, relative error: 6.181619e-09\n",
      "numerical: 1.540226 analytic: 1.540226, relative error: 1.068690e-08\n",
      "numerical: -1.212769 analytic: -1.212769, relative error: 1.930644e-08\n",
      "numerical: 0.377115 analytic: 0.377115, relative error: 4.876257e-08\n"
     ]
    }
   ],
   "source": [
    "## Calculate the gradient of the softmax loss in the Softmax class.\n",
    "# For convenience, we'll write one function that computes the loss\n",
    "#   and gradient together, softmax.loss_and_grad(X, y)\n",
    "# You may copy and paste your loss code from softmax.loss() here, and then\n",
    "#   use the appropriate intermediate values to calculate the gradient.\n",
    "\n",
    "loss, grad = softmax.loss_and_grad(X_dev,y_dev)\n",
    "\n",
    "# Compare your gradient to a gradient check we wrote. \n",
    "# You should see relative gradient errors on the order of 1e-07 or less if you implemented the gradient correctly.\n",
    "softmax.grad_check_sparse(X_dev, y_dev, grad)"
   ]
  },
  {
   "cell_type": "markdown",
   "metadata": {},
   "source": [
    "## A vectorized version of Softmax\n",
    "\n",
    "To speed things up, we will vectorize the loss and gradient calculations.  This will be helpful for stochastic gradient descent."
   ]
  },
  {
   "cell_type": "code",
   "execution_count": 24,
   "metadata": {},
   "outputs": [],
   "source": [
    "import time"
   ]
  },
  {
   "cell_type": "code",
   "execution_count": 88,
   "metadata": {
    "scrolled": true
   },
   "outputs": [
    {
     "name": "stdout",
     "output_type": "stream",
     "text": [
      "Normal loss / grad_norm: 12.383364593305886 / 667.4624097280955 computed in 0.18919706344604492s\n",
      "Vectorized loss / grad: 12.383364593305881 / 667.4624097280954 computed in 0.01499795913696289s\n",
      "difference in loss / grad: 5.329070518200751e-15 /2.240671814846037e-12 \n"
     ]
    }
   ],
   "source": [
    "## Implement softmax.fast_loss_and_grad which calculates the loss and gradient\n",
    "#    WITHOUT using any for loops.  \n",
    "\n",
    "# Standard loss and gradient\n",
    "tic = time.time()\n",
    "loss, grad = softmax.loss_and_grad(X_dev, y_dev)\n",
    "toc = time.time()\n",
    "print('Normal loss / grad_norm: {} / {} computed in {}s'.format(loss, np.linalg.norm(grad, 'fro'), toc - tic))\n",
    "\n",
    "tic = time.time()\n",
    "loss_vectorized, grad_vectorized = softmax.fast_loss_and_grad(X_dev, y_dev)\n",
    "toc = time.time()\n",
    "print('Vectorized loss / grad: {} / {} computed in {}s'.format(loss_vectorized, np.linalg.norm(grad_vectorized, 'fro'), toc - tic))\n",
    "\n",
    "# The losses should match but your vectorized implementation should be much faster.\n",
    "print('difference in loss / grad: {} /{} '.format(loss - loss_vectorized, np.linalg.norm(grad - grad_vectorized)))\n",
    "\n",
    "# You should notice a speedup with the same output."
   ]
  },
  {
   "cell_type": "markdown",
   "metadata": {},
   "source": [
    "## Stochastic gradient descent\n",
    "\n",
    "We now implement stochastic gradient descent.  This uses the same principles of gradient descent we discussed in class, however, it calculates the gradient by only using examples from a subset of the training set (so each gradient calculation is faster)."
   ]
  },
  {
   "cell_type": "markdown",
   "metadata": {},
   "source": [
    "## Question:\n",
    "\n",
    "How should the softmax gradient descent training step differ from the svm training step, if at all?"
   ]
  },
  {
   "cell_type": "markdown",
   "metadata": {},
   "source": [
    "## Answer:\n",
    "\n",
    "It is the same."
   ]
  },
  {
   "cell_type": "code",
   "execution_count": 89,
   "metadata": {
    "scrolled": false
   },
   "outputs": [
    {
     "name": "stdout",
     "output_type": "stream",
     "text": [
      "iteration 0 / 1500: loss 2.3362753003077876\n",
      "iteration 100 / 1500: loss 2.0468128876808818\n",
      "iteration 200 / 1500: loss 2.0021563039671686\n",
      "iteration 300 / 1500: loss 1.9043538397812285\n",
      "iteration 400 / 1500: loss 1.9314622502048977\n",
      "iteration 500 / 1500: loss 1.8464677457828873\n",
      "iteration 600 / 1500: loss 1.8428002903116663\n",
      "iteration 700 / 1500: loss 1.8417786759120955\n",
      "iteration 800 / 1500: loss 1.805859887861077\n",
      "iteration 900 / 1500: loss 1.8362766763879057\n",
      "iteration 1000 / 1500: loss 1.8552797092141453\n",
      "iteration 1100 / 1500: loss 1.7747655227173136\n",
      "iteration 1200 / 1500: loss 1.7312587720674424\n",
      "iteration 1300 / 1500: loss 1.818617341331799\n",
      "iteration 1400 / 1500: loss 1.841085406687327\n",
      "That took 17.255515813827515s\n"
     ]
    },
    {
     "data": {
      "image/png": "[encoded data removed]",
      "text/plain": [
       "<Figure size 432x288 with 1 Axes>"
      ]
     },
     "metadata": {
      "needs_background": "light"
     },
     "output_type": "display_data"
    }
   ],
   "source": [
    "# Implement softmax.train() by filling in the code to extract a batch of data\n",
    "# and perform the gradient step.\n",
    "import time\n",
    "\n",
    "\n",
    "tic = time.time()\n",
    "loss_hist = softmax.train(X_train, y_train, learning_rate=1e-7,\n",
    "                      num_iters=1500, verbose=True)\n",
    "toc = time.time()\n",
    "print('That took {}s'.format(toc - tic))\n",
    "\n",
    "plt.plot(loss_hist)\n",
    "plt.xlabel('Iteration number')\n",
    "plt.ylabel('Loss value')\n",
    "plt.show()"
   ]
  },
  {
   "cell_type": "markdown",
   "metadata": {},
   "source": [
    "### Evaluate the performance of the trained softmax classifier on the validation data."
   ]
  },
  {
   "cell_type": "code",
   "execution_count": 90,
   "metadata": {},
   "outputs": [
    {
     "name": "stdout",
     "output_type": "stream",
     "text": [
      "training accuracy: 0.38004081632653064\n",
      "validation accuracy: 0.376\n"
     ]
    }
   ],
   "source": [
    "## Implement softmax.predict() and use it to compute the training and testing error.\n",
    "\n",
    "y_train_pred = softmax.predict(X_train)\n",
    "print('training accuracy: {}'.format(np.mean(np.equal(y_train,y_train_pred), )))\n",
    "y_val_pred = softmax.predict(X_val)\n",
    "print('validation accuracy: {}'.format(np.mean(np.equal(y_val, y_val_pred)), ))"
   ]
  },
  {
   "cell_type": "markdown",
   "metadata": {},
   "source": [
    "## Optimize the softmax classifier\n",
    "\n",
    "You may copy and paste your optimization code from the SVM here."
   ]
  },
  {
   "cell_type": "code",
   "execution_count": 91,
   "metadata": {},
   "outputs": [
    {
     "data": {
      "text/plain": [
       "2.220446049250313e-16"
      ]
     },
     "execution_count": 91,
     "metadata": {},
     "output_type": "execute_result"
    }
   ],
   "source": [
    "np.finfo(float).eps"
   ]
  },
  {
   "cell_type": "code",
   "execution_count": 94,
   "metadata": {
    "scrolled": false
   },
   "outputs": [
    {
     "name": "stdout",
     "output_type": "stream",
     "text": [
      "learning rate: 1e-07\n",
      "iteration 0 / 1500: loss 2.3645827460267843\n",
      "iteration 100 / 1500: loss 2.0908840501311827\n",
      "iteration 200 / 1500: loss 1.9550518667900871\n",
      "iteration 300 / 1500: loss 1.8934852494395222\n",
      "iteration 400 / 1500: loss 2.004877527041643\n",
      "iteration 500 / 1500: loss 1.850977235123251\n",
      "iteration 600 / 1500: loss 1.8534862267720167\n",
      "iteration 700 / 1500: loss 1.825818195103908\n",
      "iteration 800 / 1500: loss 1.833715081049988\n",
      "iteration 900 / 1500: loss 1.8955466742400973\n",
      "iteration 1000 / 1500: loss 1.9095526898119308\n",
      "iteration 1100 / 1500: loss 1.805189205083721\n",
      "iteration 1200 / 1500: loss 1.911757766735357\n",
      "iteration 1300 / 1500: loss 1.7692299855160685\n",
      "iteration 1400 / 1500: loss 1.9035262096988037\n",
      "validation accuracy: 0.394\n",
      "\n",
      "learning rate: 1e-06\n",
      "iteration 0 / 1500: loss 2.3605135580294094\n",
      "iteration 100 / 1500: loss 1.8185421470483811\n",
      "iteration 200 / 1500: loss 1.772524031035392\n",
      "iteration 300 / 1500: loss 1.6932976400333257\n",
      "iteration 400 / 1500: loss 1.77697081203809\n",
      "iteration 500 / 1500: loss 1.6694059029886616\n",
      "iteration 600 / 1500: loss 1.8390617211560456\n",
      "iteration 700 / 1500: loss 1.6109308125926631\n",
      "iteration 800 / 1500: loss 1.7756874146706128\n",
      "iteration 900 / 1500: loss 1.8287838278403823\n",
      "iteration 1000 / 1500: loss 1.7728184938760418\n",
      "iteration 1100 / 1500: loss 1.7198858484486468\n",
      "iteration 1200 / 1500: loss 1.688173422818691\n",
      "iteration 1300 / 1500: loss 1.7519212449456534\n",
      "iteration 1400 / 1500: loss 1.752304637963781\n",
      "validation accuracy: 0.414\n",
      "\n",
      "learning rate: 1e-05\n",
      "iteration 0 / 1500: loss 2.3450889863666298\n",
      "iteration 100 / 1500: loss 3.1841728539094563\n",
      "iteration 200 / 1500: loss 2.683853871109203\n",
      "iteration 300 / 1500: loss 5.103609349034819\n",
      "iteration 400 / 1500: loss 2.8084632557559597\n",
      "iteration 500 / 1500: loss 2.332788865491245\n",
      "iteration 600 / 1500: loss 2.4034729378127873\n",
      "iteration 700 / 1500: loss 2.0152440569280214\n",
      "iteration 800 / 1500: loss 2.202515638615517\n",
      "iteration 900 / 1500: loss 2.11528002472586\n",
      "iteration 1000 / 1500: loss 3.4865539352779744\n",
      "iteration 1100 / 1500: loss 2.7706968714285187\n",
      "iteration 1200 / 1500: loss 2.0307713195416426\n",
      "iteration 1300 / 1500: loss 3.6621847794434137\n",
      "iteration 1400 / 1500: loss 2.9185726514056056\n",
      "validation accuracy: 0.305\n",
      "\n",
      "learning rate: 0.0001\n",
      "iteration 0 / 1500: loss 2.369431283926735\n",
      "iteration 100 / 1500: loss 23.87461238993527\n",
      "iteration 200 / 1500: loss 24.101868534299264\n",
      "iteration 300 / 1500: loss 24.359946671842454\n",
      "iteration 400 / 1500: loss 23.231699569488654\n",
      "iteration 500 / 1500: loss 22.666672528280642\n",
      "iteration 600 / 1500: loss 36.335822818593414\n",
      "iteration 700 / 1500: loss 27.29068302208476\n",
      "iteration 800 / 1500: loss 24.50655231341664\n",
      "iteration 900 / 1500: loss 30.614370281054967\n",
      "iteration 1000 / 1500: loss 38.51033135539315\n",
      "iteration 1100 / 1500: loss 21.30323363050151\n",
      "iteration 1200 / 1500: loss 32.72905604017685\n",
      "iteration 1300 / 1500: loss 31.849448005301348\n",
      "iteration 1400 / 1500: loss 20.420530055191247\n",
      "validation accuracy: 0.334\n",
      "\n",
      "learning rate: 0.001\n",
      "iteration 0 / 1500: loss 2.2969881131272603\n",
      "iteration 100 / 1500: loss nan\n",
      "iteration 200 / 1500: loss nan\n",
      "iteration 300 / 1500: loss nan\n",
      "iteration 400 / 1500: loss nan\n",
      "iteration 500 / 1500: loss nan\n",
      "iteration 600 / 1500: loss nan\n",
      "iteration 700 / 1500: loss nan\n",
      "iteration 800 / 1500: loss nan\n",
      "iteration 900 / 1500: loss nan\n",
      "iteration 1000 / 1500: loss nan\n",
      "iteration 1100 / 1500: loss nan\n",
      "iteration 1200 / 1500: loss nan\n",
      "iteration 1300 / 1500: loss nan\n",
      "iteration 1400 / 1500: loss nan\n",
      "validation accuracy: 0.105\n",
      "\n",
      "learning rate: 0.01\n",
      "iteration 0 / 1500: loss 2.3852253127278096\n",
      "iteration 100 / 1500: loss nan\n",
      "iteration 200 / 1500: loss nan\n",
      "iteration 300 / 1500: loss nan\n",
      "iteration 400 / 1500: loss nan\n",
      "iteration 500 / 1500: loss nan\n",
      "iteration 600 / 1500: loss nan\n",
      "iteration 700 / 1500: loss nan\n",
      "iteration 800 / 1500: loss nan\n",
      "iteration 900 / 1500: loss nan\n",
      "iteration 1000 / 1500: loss nan\n",
      "iteration 1100 / 1500: loss nan\n",
      "iteration 1200 / 1500: loss nan\n",
      "iteration 1300 / 1500: loss nan\n",
      "iteration 1400 / 1500: loss nan\n",
      "validation accuracy: 0.105\n",
      "\n",
      "learning rate: 1e-06\n",
      "iteration 0 / 1500: loss 2.3638694964277915\n",
      "iteration 100 / 1500: loss 1.819389535475256\n",
      "iteration 200 / 1500: loss 1.7023238489057178\n",
      "iteration 300 / 1500: loss 1.799553044962102\n",
      "iteration 400 / 1500: loss 1.7576898671020584\n",
      "iteration 500 / 1500: loss 1.6692158438121771\n",
      "iteration 600 / 1500: loss 1.6824786617376533\n",
      "iteration 700 / 1500: loss 1.7781174937539952\n",
      "iteration 800 / 1500: loss 1.7545771632312133\n",
      "iteration 900 / 1500: loss 1.7582725466318556\n",
      "iteration 1000 / 1500: loss 1.591194045378212\n",
      "iteration 1100 / 1500: loss 1.7118931724326063\n",
      "iteration 1200 / 1500: loss 1.6277737851069114\n",
      "iteration 1300 / 1500: loss 1.819742341282838\n",
      "iteration 1400 / 1500: loss 1.7711543228148094\n",
      "test accuracy: 0.405\n"
     ]
    }
   ],
   "source": [
    "# ================================================================ #\n",
    "# YOUR CODE HERE:\n",
    "#   Train the Softmax classifier with different learning rates and \n",
    "#     evaluate on the validation data.\n",
    "#   Report:\n",
    "#     - The best learning rate of the ones you tested.  \n",
    "#     - The best validation accuracy corresponding to the best validation error.\n",
    "#\n",
    "#   Select the SVM that achieved the best validation error and report\n",
    "#     its error rate on the test set.\n",
    "# ================================================================ #\n",
    "for learning_rate in [1e-7, 1e-6, 1e-5, 1e-4]:\n",
    "    print('learning rate: {}'.format(learning_rate))\n",
    "    loss_hist = softmax.train(X_train, y_train, learning_rate=learning_rate,\n",
    "                      num_iters=1500, verbose=True)\n",
    "    y_val_pred = softmax.predict(X_val)\n",
    "    print('validation accuracy: {}'.format(np.mean(np.equal(y_val, y_val_pred))))\n",
    "    print()\n",
    "    \n",
    "print('learning rate: {}'.format(1e-6))\n",
    "loss_hist = softmax.train(X_train, y_train, learning_rate=1e-6,\n",
    "                      num_iters=1500, verbose=True)\n",
    "y_test_pred = softmax.predict(X_test)\n",
    "print('test accuracy: {}'.format(np.mean(np.equal(y_test, y_test_pred))))\n",
    "# ================================================================ #\n",
    "# END YOUR CODE HERE\n",
    "# ================================================================ #\n"
   ]
  }
 ],
 "metadata": {
  "kernelspec": {
   "display_name": "Python 3",
   "language": "python",
   "name": "python3"
  },
  "language_info": {
   "codemirror_mode": {
    "name": "ipython",
    "version": 3
   },
   "file_extension": ".py",
   "mimetype": "text/x-python",
   "name": "python",
   "nbconvert_exporter": "python",
   "pygments_lexer": "ipython3",
   "version": "3.6.6"
  }
 },
 "nbformat": 4,
 "nbformat_minor": 2
}
